{
 "cells": [
  {
   "cell_type": "code",
   "execution_count": 1,
   "id": "ec1d1b5b",
   "metadata": {},
   "outputs": [],
   "source": [
    "import wandb\n",
    "import torch\n",
    "import torch.nn as nn\n",
    "from torchvision.datasets import ImageFolder\n",
    "from torchvision.transforms import transforms\n",
    "from torch.utils.data import RandomSampler, SequentialSampler, DataLoader\n",
    "from torch.optim.lr_scheduler import OneCycleLR\n",
    "from cae_32x32x32 import CAE\n",
    "import holocron\n",
    "from trainer import AutoencoderTrainer\n",
    "from ssim import SSIM\n",
    "\n",
    "from lasink_simulation_dataset import LasinkSimulation\n",
    "from typing import Optional, Dict\n",
    "\n",
    "\n",
    "def build_dataset(config):\n",
    "    normalize = transforms.Normalize(mean=[0.485, 0.456, 0.406],std=[0.229, 0.224, 0.225])\n",
    "\n",
    "    img_size = config['image_size']\n",
    "    train_transforms = transforms.Compose([\n",
    "                        transforms.RandomResizedCrop(size=img_size, scale=(0.24,0.25)),\n",
    "                        transforms.ColorJitter(brightness=0.2, contrast=0.2, saturation=0.2, hue=0.05),\n",
    "                        transforms.RandomHorizontalFlip()\n",
    "                    ])\n",
    "\n",
    "    val_transforms = transforms.Compose([\n",
    "                        transforms.RandomResizedCrop(size=img_size, scale=(0.24,0.25))\n",
    "\n",
    "                    ])\n",
    "\n",
    "    dsTrain = LasinkSimulation(r'C:\\Users\\MateoLOS\\Documents\\Datasets\\image_share_ok/', train_transforms)\n",
    "    dsVal = LasinkSimulation(r'C:\\Users\\MateoLOS\\Documents\\Datasets\\image_share_ok/', val_transforms)\n",
    "\n",
    "    train_loader = DataLoader(dsTrain, batch_size=config['batch_size'], shuffle=True, drop_last=True)\n",
    "    val_loader = DataLoader(dsVal, batch_size=config['batch_size'], shuffle=True)\n",
    "\n",
    "    return train_loader, val_loader\n",
    "\n",
    "\n",
    "def train(config=None):\n",
    "    # Initialize a new wandb run\n",
    "    with wandb.init(config=config):\n",
    "        # If called by wandb.agent, as below,\n",
    "        # this config will be set by Sweep Controller\n",
    "        config = wandb.config\n",
    "\n",
    "        train_loader, val_loader = build_dataset(config)\n",
    "        model = CAE()\n",
    "        lr = config['lr']\n",
    "        wd = config['wd']\n",
    "\n",
    "        # Loss function\n",
    "        criterion = SSIM()\n",
    "\n",
    "\n",
    "        # Create the contiguous parameters.\n",
    "        model_params = [p for p in model.parameters() if p.requires_grad]\n",
    "        optimizer = holocron.optim.RAdam(model_params, lr, betas=(0.95, 0.99), eps=1e-6, weight_decay=wd)\n",
    "\n",
    "\n",
    "        #Trainer\n",
    "        trainer = AutoencoderTrainer(model, train_loader, val_loader, criterion, optimizer, None, output_file=config['checkpoint'], configwb=True)\n",
    "\n",
    "        trainer.fit_n_epochs(config['epochs'], config['lr'], config['freeze'])"
   ]
  },
  {
   "cell_type": "code",
   "execution_count": 2,
   "id": "2b39eb85",
   "metadata": {},
   "outputs": [],
   "source": [
    "from config import *"
   ]
  },
  {
   "cell_type": "code",
   "execution_count": 3,
   "id": "b8e2970a",
   "metadata": {},
   "outputs": [],
   "source": [
    "\n",
    "config = {\n",
    "        'epochs': 10,\n",
    "        'lr': 0.001,\n",
    "        'wd': 0.001,\n",
    "        'model_arch': 'rexnet1_0x',\n",
    "        'image_size': 224,\n",
    "        'classes': 1,\n",
    "        'batch_size': 4,\n",
    "        'freeze': None,\n",
    "        'checkpoint': 'cp.pth'\n",
    "    }\n"
   ]
  },
  {
   "cell_type": "code",
   "execution_count": null,
   "id": "d946eabe",
   "metadata": {},
   "outputs": [
    {
     "name": "stderr",
     "output_type": "stream",
     "text": [
      "wandb: Currently logged in as: mateolos (use `wandb login --relogin` to force relogin)\n"
     ]
    },
    {
     "data": {
      "text/html": [
       "\n",
       "                Tracking run with wandb version 0.10.32<br/>\n",
       "                Syncing run <strong style=\"color:#cdcd00\">super-oath-7</strong> to <a href=\"https://wandb.ai\" target=\"_blank\">Weights & Biases</a> <a href=\"https://docs.wandb.com/integrations/jupyter.html\" target=\"_blank\">(Documentation)</a>.<br/>\n",
       "                Project page: <a href=\"https://wandb.ai/mateolos/train-autoencoder\" target=\"_blank\">https://wandb.ai/mateolos/train-autoencoder</a><br/>\n",
       "                Run page: <a href=\"https://wandb.ai/mateolos/train-autoencoder/runs/e7azfjf3\" target=\"_blank\">https://wandb.ai/mateolos/train-autoencoder/runs/e7azfjf3</a><br/>\n",
       "                Run data is saved locally in <code>C:\\Users\\MateoLOS\\Documents\\Projects\\opa\\Reserch\\auto-encoder\\train-autoencoder\\wandb\\run-20210615_111310-e7azfjf3</code><br/><br/>\n",
       "            "
      ],
      "text/plain": [
       "<IPython.core.display.HTML object>"
      ]
     },
     "metadata": {},
     "output_type": "display_data"
    },
    {
     "data": {
      "text/html": [
       "\n",
       "    <div>\n",
       "        <style>\n",
       "            /* Turns off some styling */\n",
       "            progress {\n",
       "                /* gets rid of default border in Firefox and Opera. */\n",
       "                border: none;\n",
       "                /* Needs to be in here for Safari polyfill so background images work as expected. */\n",
       "                background-size: auto;\n",
       "            }\n",
       "            .progress-bar-interrupted, .progress-bar-interrupted::-webkit-progress-bar {\n",
       "                background: #F44336;\n",
       "            }\n",
       "        </style>\n",
       "      <progress value='3' class='' max='10' style='width:300px; height:20px; vertical-align: middle;'></progress>\n",
       "      30.00% [3/10 03:41<08:37 Epoch 3/10]\n",
       "    </div>\n",
       "    \n",
       "Epoch 1/10 - Training loss: 0.9992 Validation loss: 0.9988 <p>Epoch 2/10 - Training loss: 0.9983 Validation loss: 0.9964 <p>Epoch 3/10 - Training loss: 0.9861 Validation loss: 0.96 <p>\n",
       "\n",
       "    <div>\n",
       "        <style>\n",
       "            /* Turns off some styling */\n",
       "            progress {\n",
       "                /* gets rid of default border in Firefox and Opera. */\n",
       "                border: none;\n",
       "                /* Needs to be in here for Safari polyfill so background images work as expected. */\n",
       "                background-size: auto;\n",
       "            }\n",
       "            .progress-bar-interrupted, .progress-bar-interrupted::-webkit-progress-bar {\n",
       "                background: #F44336;\n",
       "            }\n",
       "        </style>\n",
       "      <progress value='6' class='' max='9' style='width:300px; height:20px; vertical-align: middle;'></progress>\n",
       "      66.67% [6/9 00:33<00:16 Training loss: 0.919]\n",
       "    </div>\n",
       "    "
      ],
      "text/plain": [
       "<IPython.core.display.HTML object>"
      ]
     },
     "metadata": {},
     "output_type": "display_data"
    }
   ],
   "source": [
    "train(config)"
   ]
  },
  {
   "cell_type": "code",
   "execution_count": null,
   "id": "238bdaf3",
   "metadata": {},
   "outputs": [],
   "source": []
  },
  {
   "cell_type": "code",
   "execution_count": null,
   "id": "34a01c6c",
   "metadata": {},
   "outputs": [],
   "source": [
    "import ssim"
   ]
  },
  {
   "cell_type": "code",
   "execution_count": null,
   "id": "efcc8e6e",
   "metadata": {},
   "outputs": [],
   "source": [
    "criterion = ssim.SSIM()"
   ]
  },
  {
   "cell_type": "code",
   "execution_count": null,
   "id": "50a5adef",
   "metadata": {},
   "outputs": [],
   "source": [
    "criterion(x,y)"
   ]
  },
  {
   "cell_type": "code",
   "execution_count": null,
   "id": "8ef8f745",
   "metadata": {},
   "outputs": [],
   "source": []
  }
 ],
 "metadata": {
  "kernelspec": {
   "display_name": "Python 3",
   "language": "python",
   "name": "python3"
  },
  "language_info": {
   "codemirror_mode": {
    "name": "ipython",
    "version": 3
   },
   "file_extension": ".py",
   "mimetype": "text/x-python",
   "name": "python",
   "nbconvert_exporter": "python",
   "pygments_lexer": "ipython3",
   "version": "3.8.8"
  }
 },
 "nbformat": 4,
 "nbformat_minor": 5
}
